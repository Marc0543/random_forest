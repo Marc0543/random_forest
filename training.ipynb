{
 "cells": [
  {
   "cell_type": "code",
   "execution_count": 1,
   "id": "e7151f57-eb1f-44f3-81a2-91c2dac225dd",
   "metadata": {},
   "outputs": [],
   "source": [
    "%run cleaner.ipynb\n",
    "# privilégier plutot np.save et np.load pour charger les set de données"
   ]
  },
  {
   "cell_type": "code",
   "execution_count": 4,
   "id": "f777b70f-797c-48a1-a483-09afc3f11291",
   "metadata": {},
   "outputs": [],
   "source": [
    "param_grid = {\n",
    "    #'criterion':('squared_error','absolute_error'),\n",
    "    #'max_depth':[i for i in range (2,12,3)],\n",
    "    #'min_samples_split ':[5,10],\n",
    "    #'min_samples_leaf': [3,6],\n",
    "    #'max_features':(\"sqrt\",\"log2\"),\n",
    "    #\"max_leaf_nodes\":[i for i in range (6,30,7)],\n",
    "    #\"min_impurity_decrease\":,\n",
    "    #n_jobs = ,\n",
    "    #\"ccp_alpha\":,\n",
    "    # 'oob_score': ,\n",
    "    \"n_estimators\":[i for i in range(1,500,50)],\n",
    "    #\"max_samples\":,\n",
    "}"
   ]
  },
  {
   "cell_type": "code",
   "execution_count": 8,
   "id": "a445f909-0337-49ea-b5d9-b20f0bd71267",
   "metadata": {
    "scrolled": true
   },
   "outputs": [
    {
     "data": {
      "text/html": [
       "<style>#sk-container-id-2 {color: black;}#sk-container-id-2 pre{padding: 0;}#sk-container-id-2 div.sk-toggleable {background-color: white;}#sk-container-id-2 label.sk-toggleable__label {cursor: pointer;display: block;width: 100%;margin-bottom: 0;padding: 0.3em;box-sizing: border-box;text-align: center;}#sk-container-id-2 label.sk-toggleable__label-arrow:before {content: \"▸\";float: left;margin-right: 0.25em;color: #696969;}#sk-container-id-2 label.sk-toggleable__label-arrow:hover:before {color: black;}#sk-container-id-2 div.sk-estimator:hover label.sk-toggleable__label-arrow:before {color: black;}#sk-container-id-2 div.sk-toggleable__content {max-height: 0;max-width: 0;overflow: hidden;text-align: left;background-color: #f0f8ff;}#sk-container-id-2 div.sk-toggleable__content pre {margin: 0.2em;color: black;border-radius: 0.25em;background-color: #f0f8ff;}#sk-container-id-2 input.sk-toggleable__control:checked~div.sk-toggleable__content {max-height: 200px;max-width: 100%;overflow: auto;}#sk-container-id-2 input.sk-toggleable__control:checked~label.sk-toggleable__label-arrow:before {content: \"▾\";}#sk-container-id-2 div.sk-estimator input.sk-toggleable__control:checked~label.sk-toggleable__label {background-color: #d4ebff;}#sk-container-id-2 div.sk-label input.sk-toggleable__control:checked~label.sk-toggleable__label {background-color: #d4ebff;}#sk-container-id-2 input.sk-hidden--visually {border: 0;clip: rect(1px 1px 1px 1px);clip: rect(1px, 1px, 1px, 1px);height: 1px;margin: -1px;overflow: hidden;padding: 0;position: absolute;width: 1px;}#sk-container-id-2 div.sk-estimator {font-family: monospace;background-color: #f0f8ff;border: 1px dotted black;border-radius: 0.25em;box-sizing: border-box;margin-bottom: 0.5em;}#sk-container-id-2 div.sk-estimator:hover {background-color: #d4ebff;}#sk-container-id-2 div.sk-parallel-item::after {content: \"\";width: 100%;border-bottom: 1px solid gray;flex-grow: 1;}#sk-container-id-2 div.sk-label:hover label.sk-toggleable__label {background-color: #d4ebff;}#sk-container-id-2 div.sk-serial::before {content: \"\";position: absolute;border-left: 1px solid gray;box-sizing: border-box;top: 0;bottom: 0;left: 50%;z-index: 0;}#sk-container-id-2 div.sk-serial {display: flex;flex-direction: column;align-items: center;background-color: white;padding-right: 0.2em;padding-left: 0.2em;position: relative;}#sk-container-id-2 div.sk-item {position: relative;z-index: 1;}#sk-container-id-2 div.sk-parallel {display: flex;align-items: stretch;justify-content: center;background-color: white;position: relative;}#sk-container-id-2 div.sk-item::before, #sk-container-id-2 div.sk-parallel-item::before {content: \"\";position: absolute;border-left: 1px solid gray;box-sizing: border-box;top: 0;bottom: 0;left: 50%;z-index: -1;}#sk-container-id-2 div.sk-parallel-item {display: flex;flex-direction: column;z-index: 1;position: relative;background-color: white;}#sk-container-id-2 div.sk-parallel-item:first-child::after {align-self: flex-end;width: 50%;}#sk-container-id-2 div.sk-parallel-item:last-child::after {align-self: flex-start;width: 50%;}#sk-container-id-2 div.sk-parallel-item:only-child::after {width: 0;}#sk-container-id-2 div.sk-dashed-wrapped {border: 1px dashed gray;margin: 0 0.4em 0.5em 0.4em;box-sizing: border-box;padding-bottom: 0.4em;background-color: white;}#sk-container-id-2 div.sk-label label {font-family: monospace;font-weight: bold;display: inline-block;line-height: 1.2em;}#sk-container-id-2 div.sk-label-container {text-align: center;}#sk-container-id-2 div.sk-container {/* jupyter's `normalize.less` sets `[hidden] { display: none; }` but bootstrap.min.css set `[hidden] { display: none !important; }` so we also need the `!important` here to be able to override the default hidden behavior on the sphinx rendered scikit-learn.org. See: https://github.com/scikit-learn/scikit-learn/issues/21755 */display: inline-block !important;position: relative;}#sk-container-id-2 div.sk-text-repr-fallback {display: none;}</style><div id=\"sk-container-id-2\" class=\"sk-top-container\"><div class=\"sk-text-repr-fallback\"><pre>RandomForestRegressor(n_estimators=500, oob_score=True, random_state=42)</pre><b>In a Jupyter environment, please rerun this cell to show the HTML representation or trust the notebook. <br />On GitHub, the HTML representation is unable to render, please try loading this page with nbviewer.org.</b></div><div class=\"sk-container\" hidden><div class=\"sk-item\"><div class=\"sk-estimator sk-toggleable\"><input class=\"sk-toggleable__control sk-hidden--visually\" id=\"sk-estimator-id-2\" type=\"checkbox\" checked><label for=\"sk-estimator-id-2\" class=\"sk-toggleable__label sk-toggleable__label-arrow\">RandomForestRegressor</label><div class=\"sk-toggleable__content\"><pre>RandomForestRegressor(n_estimators=500, oob_score=True, random_state=42)</pre></div></div></div></div></div>"
      ],
      "text/plain": [
       "RandomForestRegressor(n_estimators=500, oob_score=True, random_state=42)"
      ]
     },
     "execution_count": 8,
     "metadata": {},
     "output_type": "execute_result"
    }
   ],
   "source": [
    "from sklearn.ensemble import RandomForestRegressor\n",
    "import joblib\n",
    "# passage en commentaire du gridsearchCV pour éviter les temps interminables de calcul \n",
    "#forest = GridSearchCV(RandomForestRegressor(random_state=42),param_grid = param_grid, scoring='neg_root_mean_squared_error', return_train_score=True, verbose = True)\n",
    "forest = RandomForestRegressor(n_estimators=500,random_state=42,oob_score=True)\n",
    "forest.fit(X_train, y_train)"
   ]
  },
  {
   "cell_type": "code",
   "execution_count": 9,
   "id": "13f36d95-dfd0-40a0-a368-5aa6c712cf37",
   "metadata": {},
   "outputs": [
    {
     "data": {
      "text/plain": [
       "0.8121088530880158"
      ]
     },
     "execution_count": 9,
     "metadata": {},
     "output_type": "execute_result"
    }
   ],
   "source": [
    "forest.oob_score_"
   ]
  },
  {
   "cell_type": "code",
   "execution_count": 10,
   "id": "b5fbec81-15c5-4d4f-be8a-301b9b449928",
   "metadata": {},
   "outputs": [
    {
     "data": {
      "text/plain": [
       "0.03397177486379656"
      ]
     },
     "execution_count": 10,
     "metadata": {},
     "output_type": "execute_result"
    }
   ],
   "source": [
    "from sklearn.metrics import mean_squared_error\n",
    "# prediction sur jeu d'entrainement\n",
    "mean_squared_error(y_train,forest.predict(X_train))"
   ]
  },
  {
   "cell_type": "code",
   "execution_count": 11,
   "id": "74dd3f50-f866-4c94-8bfb-e9aaacd19c80",
   "metadata": {},
   "outputs": [
    {
     "data": {
      "text/plain": [
       "['forest_model1.sav']"
      ]
     },
     "execution_count": 11,
     "metadata": {},
     "output_type": "execute_result"
    }
   ],
   "source": [
    "# sauvegarde du modele\n",
    "model_file_name = 'forest_model1.sav' # nom du fichier dans lequel on va sauvegarder le modele\n",
    "joblib.dump(forest, model_file_name) # sauvegarde et creation du fichier"
   ]
  },
  {
   "cell_type": "code",
   "execution_count": 13,
   "id": "2b988634-97b9-4198-997d-b5125a3fbd27",
   "metadata": {},
   "outputs": [
    {
     "data": {
      "text/plain": [
       "['lr_model.sav']"
      ]
     },
     "execution_count": 13,
     "metadata": {},
     "output_type": "execute_result"
    }
   ],
   "source": [
    "from sklearn.linear_model import LinearRegression\n",
    "\n",
    "lr = LinearRegression()\n",
    "lr.fit(X_train, y_train)\n",
    "\n",
    "model_lr_file_name = 'lr_model.sav' # nom du fichier dans lequel on va sauvegarder le modele\n",
    "joblib.dump(lr, model_lr_file_name) # sauvegarde et creation du fichier"
   ]
  },
  {
   "cell_type": "code",
   "execution_count": 14,
   "id": "ff7de3ca-168a-4f0a-9af7-8ba36ef62f91",
   "metadata": {},
   "outputs": [
    {
     "data": {
      "text/plain": [
       "0.5179331255246696"
      ]
     },
     "execution_count": 14,
     "metadata": {},
     "output_type": "execute_result"
    }
   ],
   "source": [
    "mean_squared_error(y_train,lr.predict(X_train))"
   ]
  },
  {
   "cell_type": "markdown",
   "id": "a10c337f-f11a-4c62-9ff4-b275eb008328",
   "metadata": {},
   "source": [
    "# Simulation du Gridsearch "
   ]
  },
  {
   "cell_type": "code",
   "execution_count": null,
   "id": "875d6ef5-593d-4e7a-854f-406299c72802",
   "metadata": {},
   "outputs": [],
   "source": [
    "from sklearn.metrics import r2_score\n",
    "from sklearn.ensemble import RandomForestRegressor\n",
    "\n",
    "param = {\n",
    "    'score_train':-10,\n",
    "    'oob_score':-10,\n",
    "    'max_depth':'',\n",
    "    'n_estimators':'',\n",
    "    'min_samples_leaf':''\n",
    "}\n",
    "\n",
    "max_depths = [i for i in range (4,9,1)]\n",
    "n_estimatorss = [i for i in range(480,530,10)]\n",
    "\n",
    "for max_depth in max_depths:\n",
    "    for n_estimators in n_estimatorss:\n",
    "            forest_opti = RandomForestRegressor(random_state=42,\n",
    "                                           oob_score=True,\n",
    "                                           max_depth=max_depth,\n",
    "                                           n_estimators=n_estimators)\n",
    "            forest_opti.fit(X_train,y_train)\n",
    "            if forest_opti.oob_score_ > param['oob_score']:\n",
    "                param['oob_score'] = forest_opti.oob_score_\n",
    "                param['score_train']=predict_train\n",
    "                param['max_depth']=max_depth\n",
    "                param['n_estimators']=n_estimators\n",
    "param"
   ]
  },
  {
   "cell_type": "code",
   "execution_count": 20,
   "id": "05eaea12-185b-4ddb-934c-981b35e601ac",
   "metadata": {},
   "outputs": [
    {
     "data": {
      "text/plain": [
       "['forest_model_oob.sav']"
      ]
     },
     "execution_count": 20,
     "metadata": {},
     "output_type": "execute_result"
    }
   ],
   "source": [
    "# sauvegarde du modele\n",
    "forest_grid_manually = RandomForestRegressor(random_state = 42,\n",
    " max_depth =  7,\n",
    " n_estimators =  499)\n",
    "forest_grid_manually.fit(X_train,y_train)\n",
    "model_file_name_oob = 'forest_model_oob.sav' # nom du fichier dans lequel on va sauvegarder le modele\n",
    "joblib.dump(forest_grid_manually, model_file_name_oob) # sauvegarde et creation du fichier"
   ]
  }
 ],
 "metadata": {
  "kernelspec": {
   "display_name": "Python 3 (ipykernel)",
   "language": "python",
   "name": "python3"
  },
  "language_info": {
   "codemirror_mode": {
    "name": "ipython",
    "version": 3
   },
   "file_extension": ".py",
   "mimetype": "text/x-python",
   "name": "python",
   "nbconvert_exporter": "python",
   "pygments_lexer": "ipython3",
   "version": "3.11.4"
  }
 },
 "nbformat": 4,
 "nbformat_minor": 5
}
