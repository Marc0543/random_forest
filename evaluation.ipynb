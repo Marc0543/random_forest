{
 "cells": [
  {
   "cell_type": "code",
   "execution_count": 1,
   "id": "14fce5bd-b8c3-4ac0-b235-4ded453fe21e",
   "metadata": {},
   "outputs": [],
   "source": [
    "%run cleaner.ipynb"
   ]
  },
  {
   "cell_type": "markdown",
   "id": "1cc2ae41-f7bd-41c4-9182-df1e3675c071",
   "metadata": {},
   "source": [
    "modèle gridsearch"
   ]
  },
  {
   "cell_type": "code",
   "execution_count": null,
   "id": "a2285e93-86bd-4947-ad9f-053acfd30aa9",
   "metadata": {},
   "outputs": [],
   "source": [
    "import joblib\n",
    "\n",
    "# load rf model  with joblib\n",
    "model_name = 'forest_model1.sav'\n",
    "forest_model = joblib.load(model_name)"
   ]
  },
  {
   "cell_type": "code",
   "execution_count": 3,
   "id": "75367c2a-275c-473d-bfa2-a0a21018dc1f",
   "metadata": {},
   "outputs": [
    {
     "data": {
      "text/plain": [
       "0.2521635643366759"
      ]
     },
     "execution_count": 3,
     "metadata": {},
     "output_type": "execute_result"
    }
   ],
   "source": [
    "# test prediction wit rf\n",
    "y_pred = forest_model.predict(X_test)\n",
    "\n",
    "# scoring rf preds\n",
    "from sklearn.metrics import mean_squared_error\n",
    "mean_squared_error(y_test,y_pred)"
   ]
  },
  {
   "cell_type": "markdown",
   "id": "76678b96-b101-4007-9904-7434eb7bf689",
   "metadata": {},
   "source": [
    "modele oob : "
   ]
  },
  {
   "cell_type": "code",
   "execution_count": 7,
   "id": "b47ae284-9e38-4fc7-a08a-4615eaecd419",
   "metadata": {},
   "outputs": [
    {
     "data": {
      "text/plain": [
       "0.3741534366317136"
      ]
     },
     "execution_count": 7,
     "metadata": {},
     "output_type": "execute_result"
    }
   ],
   "source": [
    "import joblib\n",
    "\n",
    "# load rf model  with joblib\n",
    "model_name = 'forest_model_oob.sav'\n",
    "forest_model_oob = joblib.load(model_name)\n",
    "\n",
    "# test prediction wit rf\n",
    "y_pred = forest_model_oob.predict(X_test)\n",
    "\n",
    "# scoring rf preds\n",
    "from sklearn.metrics import mean_squared_error\n",
    "mean_squared_error(y_test,y_pred)"
   ]
  },
  {
   "cell_type": "markdown",
   "id": "d2f2b89b-75a5-4df4-bbd4-685501ff8349",
   "metadata": {},
   "source": [
    "Bonus ( Regression Linéaire)"
   ]
  },
  {
   "cell_type": "code",
   "execution_count": 11,
   "id": "912f21be-5067-4e62-b385-b4b61f957a08",
   "metadata": {},
   "outputs": [],
   "source": [
    "import joblib\n",
    "# load lr model\n",
    "lr_model_name = 'lr_model.sav'\n",
    "lr_model = joblib.load(lr_model_name)"
   ]
  },
  {
   "cell_type": "code",
   "execution_count": 12,
   "id": "16967035-e873-4aee-81ee-7b620ff87462",
   "metadata": {},
   "outputs": [
    {
     "data": {
      "text/plain": [
       "0.5558915986952425"
      ]
     },
     "execution_count": 12,
     "metadata": {},
     "output_type": "execute_result"
    }
   ],
   "source": [
    "# test prediction wit lr\n",
    "y_pred_lr = lr_model.predict(X_test)\n",
    "\n",
    "# scoring lr preds\n",
    "from sklearn.metrics import mean_squared_error\n",
    "mean_squared_error(y_test,y_pred_lr)"
   ]
  }
 ],
 "metadata": {
  "kernelspec": {
   "display_name": "Python 3 (ipykernel)",
   "language": "python",
   "name": "python3"
  },
  "language_info": {
   "codemirror_mode": {
    "name": "ipython",
    "version": 3
   },
   "file_extension": ".py",
   "mimetype": "text/x-python",
   "name": "python",
   "nbconvert_exporter": "python",
   "pygments_lexer": "ipython3",
   "version": "3.11.4"
  }
 },
 "nbformat": 4,
 "nbformat_minor": 5
}
